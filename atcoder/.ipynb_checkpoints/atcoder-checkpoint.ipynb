{
 "cells": [
  {
   "cell_type": "code",
   "execution_count": 4,
   "metadata": {},
   "outputs": [
    {
     "name": "stdout",
     "output_type": "stream",
     "text": [
      "10\n"
     ]
    }
   ],
   "source": [
    "n = int(input())\n",
    "\n",
    "out = [[\".\"]*n]*n\n",
    "\n",
    "line0 = [\".\"]*n\n",
    "for i in range(n):\n",
    "    if i%5==0:\n",
    "        line0[i] = \"X\"\n",
    "line1 = [\".\"]*n\n",
    "for i in range(n):\n",
    "    if i%5==3:\n",
    "        line1[i] = \"X\"\n",
    "line2 = [\".\"]*n\n",
    "for i in range(n):\n",
    "    if i%5==1:\n",
    "        line2[i] = \"X\"\n",
    "line3 = [\".\"]*n\n",
    "for i in range(n):\n",
    "    if i%5==4:\n",
    "        line3[i] = \"X\"\n",
    "line4 = [\".\"]*n\n",
    "for i in range(n):\n",
    "    if i%5==2:\n",
    "        line4[i] = \"X\"\n",
    "\n",
    "for i in range(n):\n",
    "    if i%5==0:\n",
    "        out[i]=line0\n",
    "    elif i%5==1:\n",
    "        out[i]=line1\n",
    "    elif i%5==2:\n",
    "        out[i]=line2\n",
    "    elif i%5==3:\n",
    "        out[i]=line3\n",
    "    elif i%5==4:\n",
    "        out[i]=line4\n",
    "\n",
    "for j in range(n):\n",
    "    if j%5==2:\n",
    "        out[0][j]=\"X\"\n",
    "\n",
    "for j in range(n):\n",
    "    if j%5==3:\n",
    "        out[j][0]=\"X\"\n",
    "        \n",
    "for i in range(n):\n",
    "    if n%5==0:\n",
    "        for j in range(0,n,5):\n",
    "            out[j][n-1]=\"X\"                \n",
    "        for j in range(0,n,5):\n",
    "            out[n-1][j]=\"X\"                \n",
    "    elif n%5==1:\n",
    "        for j in range(2,n,5):\n",
    "            out[j][n-1]=\"X\"                \n",
    "        for j in range(3,n,5):\n",
    "            out[n-1][j]=\"X\"                \n",
    "    elif n%5==2:\n",
    "        for j in range(4,n,5):\n",
    "            out[j][n-1]=\"X\"\n",
    "        for j in range(1,n,5):\n",
    "            out[n-1][j]=\"X\"                \n",
    "    elif n%5==3:\n",
    "        for j in range(1,n,5):\n",
    "            out[j][n-1]=\"X\"  \n",
    "        for j in range(4,n,5):\n",
    "            out[n-1][j]=\"X\"                \n",
    "\n",
    "    elif n%5==4:\n",
    "        for j in range(3,n,5):\n",
    "            out[j][n-1]=\"X\"\n",
    "        for j in range(2,n,5):\n",
    "            out[n-1][j]=\"X\"\n",
    "            \n",
    "print(out)"
   ]
  },
  {
   "cell_type": "code",
   "execution_count": 30,
   "metadata": {},
   "outputs": [
    {
     "data": {
      "text/plain": [
       "[['X', '.', 'X', '.', '.', 'X', '.', 'X', '.', 'X'],\n",
       " ['.', '.', '.', 'X', '.', '.', '.', '.', 'X', '.'],\n",
       " ['.', 'X', '.', '.', '.', '.', 'X', '.', '.', '.'],\n",
       " ['X', '.', '.', '.', 'X', '.', '.', '.', '.', 'X'],\n",
       " ['X', '.', 'X', '.', '.', 'X', '.', 'X', '.', '.'],\n",
       " ['X', '.', 'X', '.', '.', 'X', '.', 'X', '.', 'X'],\n",
       " ['.', '.', '.', 'X', '.', '.', '.', '.', 'X', '.'],\n",
       " ['.', 'X', '.', '.', '.', '.', 'X', '.', '.', '.'],\n",
       " ['X', '.', '.', '.', 'X', '.', '.', '.', '.', 'X'],\n",
       " ['X', '.', 'X', '.', '.', 'X', '.', 'X', '.', '.']]"
      ]
     },
     "execution_count": 30,
     "metadata": {},
     "output_type": "execute_result"
    }
   ],
   "source": [
    "out"
   ]
  },
  {
   "cell_type": "code",
   "execution_count": 35,
   "metadata": {},
   "outputs": [
    {
     "name": "stdout",
     "output_type": "stream",
     "text": [
      "100 0 193\n"
     ]
    }
   ],
   "source": [
    "for cx in range(101):\n",
    "    for cy in range(101):\n",
    "        hight = abs(cx-x[0]) + abs(cy-y[0]) + h[0]\n",
    "        flag=1\n",
    "        for i in range(1,n):\n",
    "            if max(hight - (abs(cx-x[i]) + abs(cy-y[i])), 0) != h[i]:\n",
    "                flag=0\n",
    "        if flag==1:\n",
    "            print(\"{} {} {}\".format(cx, cy, hight))"
   ]
  },
  {
   "cell_type": "code",
   "execution_count": 15,
   "metadata": {},
   "outputs": [
    {
     "name": "stdout",
     "output_type": "stream",
     "text": [
      "4\n"
     ]
    }
   ],
   "source": []
  },
  {
   "cell_type": "code",
   "execution_count": 28,
   "metadata": {},
   "outputs": [
    {
     "name": "stdout",
     "output_type": "stream",
     "text": [
      "10 1890\n",
      "189\n"
     ]
    }
   ],
   "source": [
    "n,m = map(int, input().split())\n",
    "\n",
    "ma = m//n\n",
    "re = m%n\n",
    "\n",
    "flag=0\n",
    "\n",
    "if re==0:\n",
    "    while(flag==0):\n",
    "        if m%ma==0:\n",
    "            print(ma)\n",
    "            flag = 1\n",
    "        ma -=1\n",
    "else:\n",
    "    flag2=0\n",
    "    while(flag==0):\n",
    "        if m%ma==0:\n",
    "            print(ma)\n",
    "            flag = 1\n",
    "            \n",
    "        if flag2==0:\n",
    "            ma -=1\n",
    "            if ma%re==0:\n",
    "                flag2=1\n",
    "        \n",
    "        else:\n",
    "            if ma>re:\n",
    "                ma -= re\n",
    "            else:\n",
    "                ma -=1\n",
    "                flag2=1"
   ]
  },
  {
   "cell_type": "code",
   "execution_count": null,
   "metadata": {},
   "outputs": [],
   "source": []
  },
  {
   "cell_type": "code",
   "execution_count": null,
   "metadata": {},
   "outputs": [],
   "source": []
  }
 ],
 "metadata": {
  "kernelspec": {
   "display_name": "Python 3",
   "language": "python",
   "name": "python3"
  },
  "language_info": {
   "codemirror_mode": {
    "name": "ipython",
    "version": 3
   },
   "file_extension": ".py",
   "mimetype": "text/x-python",
   "name": "python",
   "nbconvert_exporter": "python",
   "pygments_lexer": "ipython3",
   "version": "3.7.0"
  }
 },
 "nbformat": 4,
 "nbformat_minor": 2
}
